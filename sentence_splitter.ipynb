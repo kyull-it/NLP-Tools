{
 "cells": [
  {
   "cell_type": "markdown",
   "id": "69241bdf-1998-41a4-bb85-cf79ef0257b4",
   "metadata": {},
   "source": [
    "## 한국어"
   ]
  },
  {
   "cell_type": "code",
   "execution_count": 14,
   "id": "85915d51-3493-45d6-87c3-44191a0943f5",
   "metadata": {},
   "outputs": [],
   "source": [
    "from kss import split_sentences\n",
    "import time"
   ]
  },
  {
   "cell_type": "code",
   "execution_count": 18,
   "id": "04c22fe2-34aa-4b66-b888-5e6a04c7b3ea",
   "metadata": {},
   "outputs": [
    {
     "name": "stdout",
     "output_type": "stream",
     "text": [
      "['Hello. 안녕하세요.']\n",
      "걸린 시간 :  0.004822492599487305\n"
     ]
    }
   ],
   "source": [
    "start = time.time()\n",
    "\n",
    "text = \"Hello. 안녕하세요.\"\n",
    "\n",
    "sent_seg = split_sentences(text)\n",
    "\n",
    "# You can install `python-mecab-kor` for faster kss execution. Try to install it using `pip install python-mecab-kor`.\n",
    "# 자동으로 실행이 더 빠른 패키지가 설치되었다.\n",
    "\n",
    "print(sent_seg)\n",
    "\n",
    "end = time.time()\n",
    "\n",
    "print(\"걸린 시간 : \", end-start)"
   ]
  },
  {
   "cell_type": "markdown",
   "id": "78c96a96-8cee-403a-be28-98f528f23ba5",
   "metadata": {},
   "source": [
    "## 영어"
   ]
  },
  {
   "cell_type": "code",
   "execution_count": 6,
   "id": "1be63bff-ff20-43ac-9c4b-7e2c39358067",
   "metadata": {
    "collapsed": true,
    "jupyter": {
     "outputs_hidden": true
    },
    "tags": []
   },
   "outputs": [
    {
     "name": "stderr",
     "output_type": "stream",
     "text": [
      "/home/nd-ygr/anaconda3/envs/test-env/lib/python3.9/site-packages/tqdm/auto.py:22: TqdmWarning: IProgress not found. Please update jupyter and ipywidgets. See https://ipywidgets.readthedocs.io/en/stable/user_install.html\n",
      "  from .autonotebook import tqdm as notebook_tqdm\n",
      "2022-09-01 10:17:37.101261: I tensorflow/core/util/util.cc:169] oneDNN custom operations are on. You may see slightly different numerical results due to floating-point round-off errors from different computation orders. To turn them off, set the environment variable `TF_ENABLE_ONEDNN_OPTS=0`.\n",
      "2022-09-01 10:17:38.599728: I tensorflow/stream_executor/cuda/cuda_gpu_executor.cc:975] successful NUMA node read from SysFS had negative value (-1), but there must be at least one NUMA node, so returning NUMA node zero\n",
      "2022-09-01 10:17:38.601592: I tensorflow/stream_executor/cuda/cuda_gpu_executor.cc:975] successful NUMA node read from SysFS had negative value (-1), but there must be at least one NUMA node, so returning NUMA node zero\n",
      "2022-09-01 10:17:38.601705: I tensorflow/stream_executor/cuda/cuda_gpu_executor.cc:975] successful NUMA node read from SysFS had negative value (-1), but there must be at least one NUMA node, so returning NUMA node zero\n"
     ]
    }
   ],
   "source": [
    "import spacy"
   ]
  },
  {
   "cell_type": "code",
   "execution_count": 9,
   "id": "74c19867-7ffd-44fd-b436-0b2247c79b1e",
   "metadata": {},
   "outputs": [
    {
     "name": "stdout",
     "output_type": "stream",
     "text": [
      "[Hello!, I am very pleased to be here in Busan International Film Festival., Thanks for the invitation!, The title of this film is 'Top gun : Maverick'., This film is about the story of the best pilot.]\n",
      "걸린 시간 :  0.30834031105041504\n"
     ]
    }
   ],
   "source": [
    "start = time.time()\n",
    "\n",
    "model = spacy.load(\"en_core_web_sm\")\n",
    "\n",
    "text = \"Hello! I am very pleased to be here in Busan International Film Festival. Thanks for the invitation! The title of this film is 'Top gun : Maverick'. This film is about the story of the best pilot.\"\n",
    "\n",
    "doc = model(text)\n",
    "\n",
    "sent_seg = list(doc.sents)\n",
    "\n",
    "print(sent_seg)\n",
    "\n",
    "end = time.time()\n",
    "\n",
    "print(\"걸린 시간 : \", end-start)"
   ]
  },
  {
   "cell_type": "code",
   "execution_count": null,
   "id": "190db8f0-e9ac-4393-a1b6-9bb906d0ca12",
   "metadata": {},
   "outputs": [],
   "source": []
  }
 ],
 "metadata": {
  "kernelspec": {
   "display_name": "test-env",
   "language": "python",
   "name": "test-env"
  },
  "language_info": {
   "codemirror_mode": {
    "name": "ipython",
    "version": 3
   },
   "file_extension": ".py",
   "mimetype": "text/x-python",
   "name": "python",
   "nbconvert_exporter": "python",
   "pygments_lexer": "ipython3",
   "version": "3.9.13"
  }
 },
 "nbformat": 4,
 "nbformat_minor": 5
}
