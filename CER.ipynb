{
 "cells": [
  {
   "cell_type": "markdown",
   "id": "46628dd9-4b53-44d4-97ce-2a517227dbe0",
   "metadata": {},
   "source": [
    "## CER\n",
    "- https://maxbachmann.github.io/Levenshtein/levenshtein.html#distance\n",
    "- 원리 이해 : https://leesumin.tistory.com/79"
   ]
  },
  {
   "cell_type": "code",
   "execution_count": 7,
   "id": "f8b5f091-3453-4217-a0d8-4b667276b994",
   "metadata": {
    "collapsed": true,
    "jupyter": {
     "outputs_hidden": true
    }
   },
   "outputs": [
    {
     "name": "stdout",
     "output_type": "stream",
     "text": [
      "Collecting levenshtein\n",
      "  Downloading Levenshtein-0.21.1-cp38-cp38-manylinux_2_17_x86_64.manylinux2014_x86_64.whl (172 kB)\n",
      "\u001b[2K     \u001b[38;2;114;156;31m━━━━━━━━━━━━━━━━━━━━━━━━━━━━━━━━━━━━━━━\u001b[0m \u001b[32m172.8/172.8 kB\u001b[0m \u001b[31m6.2 MB/s\u001b[0m eta \u001b[36m0:00:00\u001b[0m\n",
      "\u001b[?25hCollecting rapidfuzz<4.0.0,>=2.3.0 (from levenshtein)\n",
      "  Downloading rapidfuzz-3.1.2-cp38-cp38-manylinux_2_17_x86_64.manylinux2014_x86_64.whl (3.1 MB)\n",
      "\u001b[2K     \u001b[38;2;114;156;31m━━━━━━━━━━━━━━━━━━━━━━━━━━━━━━━━━━━━━━━━\u001b[0m \u001b[32m3.1/3.1 MB\u001b[0m \u001b[31m11.3 MB/s\u001b[0m eta \u001b[36m0:00:00\u001b[0m31m11.8 MB/s\u001b[0m eta \u001b[36m0:00:01\u001b[0m\n",
      "\u001b[?25hInstalling collected packages: rapidfuzz, levenshtein\n",
      "Successfully installed levenshtein-0.21.1 rapidfuzz-3.1.2\n",
      "\n",
      "\u001b[1m[\u001b[0m\u001b[34;49mnotice\u001b[0m\u001b[1;39;49m]\u001b[0m\u001b[39;49m A new release of pip is available: \u001b[0m\u001b[31;49m23.1.2\u001b[0m\u001b[39;49m -> \u001b[0m\u001b[32;49m23.2\u001b[0m\n",
      "\u001b[1m[\u001b[0m\u001b[34;49mnotice\u001b[0m\u001b[1;39;49m]\u001b[0m\u001b[39;49m To update, run: \u001b[0m\u001b[32;49mpip install --upgrade pip\u001b[0m\n"
     ]
    }
   ],
   "source": [
    "#!pip install levenshtein"
   ]
  },
  {
   "cell_type": "code",
   "execution_count": 11,
   "id": "0444619b-a42f-4fa3-b7f2-cf82c8efba03",
   "metadata": {},
   "outputs": [],
   "source": [
    "from Levenshtein import distance"
   ]
  },
  {
   "cell_type": "code",
   "execution_count": 1,
   "id": "db4f7548-b208-4989-83f1-327c2724e4bc",
   "metadata": {},
   "outputs": [],
   "source": [
    "s1 = '123abc'\n",
    "s2 = '13abcd'"
   ]
  },
  {
   "cell_type": "code",
   "execution_count": 9,
   "id": "b792f7a2-2506-4f48-82ca-5929630d7d25",
   "metadata": {},
   "outputs": [
    {
     "data": {
      "text/plain": [
       "2"
      ]
     },
     "execution_count": 9,
     "metadata": {},
     "output_type": "execute_result"
    }
   ],
   "source": [
    "distance(s1, s2)"
   ]
  },
  {
   "cell_type": "code",
   "execution_count": 12,
   "id": "9381efeb-f01e-4d4f-8bbc-6f1dc2253d59",
   "metadata": {},
   "outputs": [],
   "source": [
    "import pandas as pd"
   ]
  },
  {
   "cell_type": "code",
   "execution_count": 31,
   "id": "524adbc9-a86f-4b55-aefb-e208cb15d4f0",
   "metadata": {},
   "outputs": [
    {
     "data": {
      "text/html": [
       "<div>\n",
       "<style scoped>\n",
       "    .dataframe tbody tr th:only-of-type {\n",
       "        vertical-align: middle;\n",
       "    }\n",
       "\n",
       "    .dataframe tbody tr th {\n",
       "        vertical-align: top;\n",
       "    }\n",
       "\n",
       "    .dataframe thead th {\n",
       "        text-align: right;\n",
       "    }\n",
       "</style>\n",
       "<table border=\"1\" class=\"dataframe\">\n",
       "  <thead>\n",
       "    <tr style=\"text-align: right;\">\n",
       "      <th></th>\n",
       "      <th>input_speech</th>\n",
       "      <th>output</th>\n",
       "    </tr>\n",
       "    <tr>\n",
       "      <th>Idx</th>\n",
       "      <th></th>\n",
       "      <th></th>\n",
       "    </tr>\n",
       "  </thead>\n",
       "  <tbody>\n",
       "    <tr>\n",
       "      <th>1</th>\n",
       "      <td>안녕하세요. 반갑습니다.</td>\n",
       "      <td>안녕하세요. 반갑습니다.</td>\n",
       "    </tr>\n",
       "    <tr>\n",
       "      <th>2</th>\n",
       "      <td>오늘 날씨가 정말 좋네요.</td>\n",
       "      <td>오늘 날씨가 정말 좋네요.</td>\n",
       "    </tr>\n",
       "    <tr>\n",
       "      <th>3</th>\n",
       "      <td>가을은 단풍이 아름답습니다.</td>\n",
       "      <td>가을은 단풍이 아름답습니다.</td>\n",
       "    </tr>\n",
       "    <tr>\n",
       "      <th>4</th>\n",
       "      <td>저는 한국에 살고 있어요.</td>\n",
       "      <td>저는 한국에 살고 있어요.</td>\n",
       "    </tr>\n",
       "    <tr>\n",
       "      <th>5</th>\n",
       "      <td>맛있는 음식을 먹으러 가요.</td>\n",
       "      <td>맛있는 음식을 먹으러 가요.</td>\n",
       "    </tr>\n",
       "    <tr>\n",
       "      <th>...</th>\n",
       "      <td>...</td>\n",
       "      <td>...</td>\n",
       "    </tr>\n",
       "    <tr>\n",
       "      <th>96</th>\n",
       "      <td>오늘 나 저녁에 친구들이랑 약속있어.</td>\n",
       "      <td>오늘 나 저녁에 친구들이랑 약속있어?</td>\n",
       "    </tr>\n",
       "    <tr>\n",
       "      <th>97</th>\n",
       "      <td>어제 밤에 무서운 영화봤는데 꿈에서 귀신나와서 너무 무섭더라.</td>\n",
       "      <td>어제 밤에 무서운 영화봤는데 꿈에서 귀신나와서 너무 무섭더라.</td>\n",
       "    </tr>\n",
       "    <tr>\n",
       "      <th>98</th>\n",
       "      <td>저번주에 가족들이랑 시골집 다녀왔는데 풍경 너무 이쁘더라.</td>\n",
       "      <td>저번주에 가족들이랑 시골집 다녀왔는데 풍경 너무 예쁘더라.</td>\n",
       "    </tr>\n",
       "    <tr>\n",
       "      <th>99</th>\n",
       "      <td>최근에 인상깊게 읽은 책이 있어서 친구들한테 다 추천해줬어.</td>\n",
       "      <td>최근에 인상깊게 읽은 책이 있어서 친구들한테 다 추천해줬어.</td>\n",
       "    </tr>\n",
       "    <tr>\n",
       "      <th>100</th>\n",
       "      <td>공감되는 내용이 진짜 많더라.</td>\n",
       "      <td>공감되는 내용이 진짜 많더라.</td>\n",
       "    </tr>\n",
       "  </tbody>\n",
       "</table>\n",
       "<p>100 rows × 2 columns</p>\n",
       "</div>"
      ],
      "text/plain": [
       "                           input_speech                              output\n",
       "Idx                                                                        \n",
       "1                         안녕하세요. 반갑습니다.                       안녕하세요. 반갑습니다.\n",
       "2                        오늘 날씨가 정말 좋네요.                      오늘 날씨가 정말 좋네요.\n",
       "3                       가을은 단풍이 아름답습니다.                     가을은 단풍이 아름답습니다.\n",
       "4                        저는 한국에 살고 있어요.                      저는 한국에 살고 있어요.\n",
       "5                       맛있는 음식을 먹으러 가요.                     맛있는 음식을 먹으러 가요.\n",
       "..                                  ...                                 ...\n",
       "96                 오늘 나 저녁에 친구들이랑 약속있어.                오늘 나 저녁에 친구들이랑 약속있어?\n",
       "97   어제 밤에 무서운 영화봤는데 꿈에서 귀신나와서 너무 무섭더라.  어제 밤에 무서운 영화봤는데 꿈에서 귀신나와서 너무 무섭더라.\n",
       "98     저번주에 가족들이랑 시골집 다녀왔는데 풍경 너무 이쁘더라.    저번주에 가족들이랑 시골집 다녀왔는데 풍경 너무 예쁘더라.\n",
       "99    최근에 인상깊게 읽은 책이 있어서 친구들한테 다 추천해줬어.   최근에 인상깊게 읽은 책이 있어서 친구들한테 다 추천해줬어.\n",
       "100                    공감되는 내용이 진짜 많더라.                    공감되는 내용이 진짜 많더라.\n",
       "\n",
       "[100 rows x 2 columns]"
      ]
     },
     "execution_count": 31,
     "metadata": {},
     "output_type": "execute_result"
    }
   ],
   "source": [
    "path = './STT_CER.xlsx'\n",
    "df = pd.read_excel(path, sheet_name=0, header=0, index_col=0)\n",
    "df"
   ]
  },
  {
   "cell_type": "code",
   "execution_count": 32,
   "id": "ab481f92-7ed6-48a0-ac70-4ba22ee1b522",
   "metadata": {},
   "outputs": [
    {
     "name": "stdout",
     "output_type": "stream",
     "text": [
      "------ Original Sentences ------\n",
      "['안녕하세요. 반갑습니다.', '오늘 날씨가 정말 좋네요.', '가을은 단풍이 아름답습니다.', '저는 한국에 살고 있어요.', '맛있는 음식을 먹으러 가요.', '여행을 가고 싶어요.', '도서관에서 책을 빌렸어요.', '학교에서 친구들을 만나요.', '새로운 언어를 배우는 것은 재미있어요.', '스포츠를 즐겨봅시다.']\n",
      "\n",
      "------ Output Sentences ------\n",
      "['안녕하세요. 반갑습니다.', '오늘 날씨가 정말 좋네요.', '가을은 단풍이 아름답습니다.', '저는 한국에 살고 있어요.', '맛있는 음식을 먹으러 가요.', '여행을 가고 싶어요.', '도서관에서 책을 빌렸어요.', '학교에서 친구들을 만나요.', '새로운 언어를 배우는 것은 재미있어요.', '스포츠를 즐겨 봅시다.']\n"
     ]
    }
   ],
   "source": [
    "input, output = list(df[\"input_speech\"]), list(df[\"output\"])\n",
    "print(\"------ Original Sentences ------\")\n",
    "print(input[:10])\n",
    "print()\n",
    "print(\"------ Output Sentences ------\")\n",
    "print(output[:10])"
   ]
  },
  {
   "cell_type": "code",
   "execution_count": 33,
   "id": "b2363bfa-9e63-40d6-a846-2ac10efa7581",
   "metadata": {},
   "outputs": [
    {
     "data": {
      "text/plain": [
       "[0.0, 0.0, 0.0, 0.0, 0.0, 0.0, 0.0, 0.0, 0.0, 0.0]"
      ]
     },
     "execution_count": 33,
     "metadata": {},
     "output_type": "execute_result"
    }
   ],
   "source": [
    "CER = []\n",
    "for i in range(len(input)):\n",
    "    n = len(output[i])\n",
    "    score = distance(input[i].replace(\" \", ''), output[i].replace(\" \", ''))\n",
    "    score = round(score/n, 2)\n",
    "    CER.append(score)\n",
    "\n",
    "CER[:10]"
   ]
  },
  {
   "cell_type": "code",
   "execution_count": 34,
   "id": "5834d479-2a72-4602-8ca8-d25f521b33ed",
   "metadata": {},
   "outputs": [
    {
     "data": {
      "text/html": [
       "<div>\n",
       "<style scoped>\n",
       "    .dataframe tbody tr th:only-of-type {\n",
       "        vertical-align: middle;\n",
       "    }\n",
       "\n",
       "    .dataframe tbody tr th {\n",
       "        vertical-align: top;\n",
       "    }\n",
       "\n",
       "    .dataframe thead th {\n",
       "        text-align: right;\n",
       "    }\n",
       "</style>\n",
       "<table border=\"1\" class=\"dataframe\">\n",
       "  <thead>\n",
       "    <tr style=\"text-align: right;\">\n",
       "      <th></th>\n",
       "      <th>input_speech</th>\n",
       "      <th>output</th>\n",
       "      <th>CER</th>\n",
       "    </tr>\n",
       "    <tr>\n",
       "      <th>Idx</th>\n",
       "      <th></th>\n",
       "      <th></th>\n",
       "      <th></th>\n",
       "    </tr>\n",
       "  </thead>\n",
       "  <tbody>\n",
       "    <tr>\n",
       "      <th>1</th>\n",
       "      <td>안녕하세요. 반갑습니다.</td>\n",
       "      <td>안녕하세요. 반갑습니다.</td>\n",
       "      <td>0.00</td>\n",
       "    </tr>\n",
       "    <tr>\n",
       "      <th>2</th>\n",
       "      <td>오늘 날씨가 정말 좋네요.</td>\n",
       "      <td>오늘 날씨가 정말 좋네요.</td>\n",
       "      <td>0.00</td>\n",
       "    </tr>\n",
       "    <tr>\n",
       "      <th>3</th>\n",
       "      <td>가을은 단풍이 아름답습니다.</td>\n",
       "      <td>가을은 단풍이 아름답습니다.</td>\n",
       "      <td>0.00</td>\n",
       "    </tr>\n",
       "    <tr>\n",
       "      <th>4</th>\n",
       "      <td>저는 한국에 살고 있어요.</td>\n",
       "      <td>저는 한국에 살고 있어요.</td>\n",
       "      <td>0.00</td>\n",
       "    </tr>\n",
       "    <tr>\n",
       "      <th>5</th>\n",
       "      <td>맛있는 음식을 먹으러 가요.</td>\n",
       "      <td>맛있는 음식을 먹으러 가요.</td>\n",
       "      <td>0.00</td>\n",
       "    </tr>\n",
       "    <tr>\n",
       "      <th>...</th>\n",
       "      <td>...</td>\n",
       "      <td>...</td>\n",
       "      <td>...</td>\n",
       "    </tr>\n",
       "    <tr>\n",
       "      <th>96</th>\n",
       "      <td>오늘 나 저녁에 친구들이랑 약속있어.</td>\n",
       "      <td>오늘 나 저녁에 친구들이랑 약속있어?</td>\n",
       "      <td>0.05</td>\n",
       "    </tr>\n",
       "    <tr>\n",
       "      <th>97</th>\n",
       "      <td>어제 밤에 무서운 영화봤는데 꿈에서 귀신나와서 너무 무섭더라.</td>\n",
       "      <td>어제 밤에 무서운 영화봤는데 꿈에서 귀신나와서 너무 무섭더라.</td>\n",
       "      <td>0.00</td>\n",
       "    </tr>\n",
       "    <tr>\n",
       "      <th>98</th>\n",
       "      <td>저번주에 가족들이랑 시골집 다녀왔는데 풍경 너무 이쁘더라.</td>\n",
       "      <td>저번주에 가족들이랑 시골집 다녀왔는데 풍경 너무 예쁘더라.</td>\n",
       "      <td>0.03</td>\n",
       "    </tr>\n",
       "    <tr>\n",
       "      <th>99</th>\n",
       "      <td>최근에 인상깊게 읽은 책이 있어서 친구들한테 다 추천해줬어.</td>\n",
       "      <td>최근에 인상깊게 읽은 책이 있어서 친구들한테 다 추천해줬어.</td>\n",
       "      <td>0.00</td>\n",
       "    </tr>\n",
       "    <tr>\n",
       "      <th>100</th>\n",
       "      <td>공감되는 내용이 진짜 많더라.</td>\n",
       "      <td>공감되는 내용이 진짜 많더라.</td>\n",
       "      <td>0.00</td>\n",
       "    </tr>\n",
       "  </tbody>\n",
       "</table>\n",
       "<p>100 rows × 3 columns</p>\n",
       "</div>"
      ],
      "text/plain": [
       "                           input_speech                              output   \n",
       "Idx                                                                           \n",
       "1                         안녕하세요. 반갑습니다.                       안녕하세요. 반갑습니다.  \\\n",
       "2                        오늘 날씨가 정말 좋네요.                      오늘 날씨가 정말 좋네요.   \n",
       "3                       가을은 단풍이 아름답습니다.                     가을은 단풍이 아름답습니다.   \n",
       "4                        저는 한국에 살고 있어요.                      저는 한국에 살고 있어요.   \n",
       "5                       맛있는 음식을 먹으러 가요.                     맛있는 음식을 먹으러 가요.   \n",
       "..                                  ...                                 ...   \n",
       "96                 오늘 나 저녁에 친구들이랑 약속있어.                오늘 나 저녁에 친구들이랑 약속있어?   \n",
       "97   어제 밤에 무서운 영화봤는데 꿈에서 귀신나와서 너무 무섭더라.  어제 밤에 무서운 영화봤는데 꿈에서 귀신나와서 너무 무섭더라.   \n",
       "98     저번주에 가족들이랑 시골집 다녀왔는데 풍경 너무 이쁘더라.    저번주에 가족들이랑 시골집 다녀왔는데 풍경 너무 예쁘더라.   \n",
       "99    최근에 인상깊게 읽은 책이 있어서 친구들한테 다 추천해줬어.   최근에 인상깊게 읽은 책이 있어서 친구들한테 다 추천해줬어.   \n",
       "100                    공감되는 내용이 진짜 많더라.                    공감되는 내용이 진짜 많더라.   \n",
       "\n",
       "      CER  \n",
       "Idx        \n",
       "1    0.00  \n",
       "2    0.00  \n",
       "3    0.00  \n",
       "4    0.00  \n",
       "5    0.00  \n",
       "..    ...  \n",
       "96   0.05  \n",
       "97   0.00  \n",
       "98   0.03  \n",
       "99   0.00  \n",
       "100  0.00  \n",
       "\n",
       "[100 rows x 3 columns]"
      ]
     },
     "execution_count": 34,
     "metadata": {},
     "output_type": "execute_result"
    }
   ],
   "source": [
    "df[\"CER\"]=CER\n",
    "df"
   ]
  },
  {
   "cell_type": "code",
   "execution_count": 35,
   "id": "95add605-1d7f-4053-89c5-573128d2cefa",
   "metadata": {},
   "outputs": [],
   "source": [
    "df.to_excel('result.xlsx')"
   ]
  },
  {
   "cell_type": "code",
   "execution_count": null,
   "id": "0129ad61-42bf-490b-bb52-f1bfa7d65f14",
   "metadata": {},
   "outputs": [],
   "source": []
  }
 ],
 "metadata": {
  "kernelspec": {
   "display_name": "test",
   "language": "python",
   "name": "test"
  },
  "language_info": {
   "codemirror_mode": {
    "name": "ipython",
    "version": 3
   },
   "file_extension": ".py",
   "mimetype": "text/x-python",
   "name": "python",
   "nbconvert_exporter": "python",
   "pygments_lexer": "ipython3",
   "version": "3.8.16"
  }
 },
 "nbformat": 4,
 "nbformat_minor": 5
}
