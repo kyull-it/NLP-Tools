{
 "cells": [
  {
   "cell_type": "code",
   "execution_count": 23,
   "id": "e1202489-c72e-47a4-9d1c-2e2a5d1c6bca",
   "metadata": {},
   "outputs": [],
   "source": [
    "import pandas as pd\n",
    "import spacy\n",
    "from konlpy.tag import Mecab\n",
    "import numpy as np"
   ]
  },
  {
   "cell_type": "code",
   "execution_count": 19,
   "id": "02361646-5a52-416d-a9a3-30d0097ee829",
   "metadata": {},
   "outputs": [],
   "source": [
    "from nltk.translate.bleu_score import SmoothingFunction, sentence_bleu"
   ]
  },
  {
   "cell_type": "code",
   "execution_count": 27,
   "id": "2660c128-ba61-4753-aaee-b7ad3c59fdb4",
   "metadata": {},
   "outputs": [],
   "source": [
    "# 데이터 로드, 컬럼명 지정\n",
    "df = pd.read_excel('./total.xlsx', header=0)\n",
    "df.columns = ['idx', 'ko_original', 'en_original', 'matis']\n",
    "df = df.dropna(subset=['matis']).reset_index(drop=True)"
   ]
  },
  {
   "cell_type": "markdown",
   "id": "4d002bc8-d71c-413d-8484-f10ef78762e9",
   "metadata": {
    "tags": []
   },
   "source": [
    "### KO BLEU\n",
    "ref : http://incredible.ai/nlp/2020/02/29/BLEU/#korean"
   ]
  },
  {
   "cell_type": "code",
   "execution_count": 28,
   "id": "b5575fe5-ebbe-4c85-9bf5-2172fef8949d",
   "metadata": {},
   "outputs": [],
   "source": [
    "# bleu_score, Smoothing Function\n",
    "cc = SmoothingFunction()\n",
    "\n",
    "# Sentence splitter\n",
    "mecab = Mecab()"
   ]
  },
  {
   "cell_type": "code",
   "execution_count": 29,
   "id": "3105faf9-11a2-4629-8c90-0d101d04ce09",
   "metadata": {
    "tags": []
   },
   "outputs": [],
   "source": [
    "for idx, row in df.iterrows():\n",
    "\n",
    "    references = [mecab.morphs(row['ko_original'])]\n",
    "    target_text = mecab.morphs(row['matis'])\n",
    "    score_1gram = sentence_bleu(references, target_text, weights=[1,0,0,0], smoothing_function=cc.method2, auto_reweigh=True)\n",
    "    score_2gram = sentence_bleu(references, target_text, weights=[0,1,0,0], smoothing_function=cc.method2, auto_reweigh=True)\n",
    "    score_3gram = sentence_bleu(references, target_text, weights=[0,0,1,0], smoothing_function=cc.method2, auto_reweigh=True)\n",
    "    score_4gram = sentence_bleu(references, target_text, weights=[0,0,0,1], smoothing_function=cc.method2, auto_reweigh=True)\n",
    "    scorelist = [score_1gram, score_2gram, score_3gram, score_4gram]\n",
    "    average_bleu = np.mean(scorelist)   \n",
    "    df.loc[idx, 'matis_bleu'] = average_bleu"
   ]
  },
  {
   "cell_type": "code",
   "execution_count": 30,
   "id": "02347234-aa63-4ba4-bcb5-74f0fba198d5",
   "metadata": {
    "collapsed": true,
    "jupyter": {
     "outputs_hidden": true
    },
    "tags": []
   },
   "outputs": [
    {
     "data": {
      "text/html": [
       "<div>\n",
       "<style scoped>\n",
       "    .dataframe tbody tr th:only-of-type {\n",
       "        vertical-align: middle;\n",
       "    }\n",
       "\n",
       "    .dataframe tbody tr th {\n",
       "        vertical-align: top;\n",
       "    }\n",
       "\n",
       "    .dataframe thead th {\n",
       "        text-align: right;\n",
       "    }\n",
       "</style>\n",
       "<table border=\"1\" class=\"dataframe\">\n",
       "  <thead>\n",
       "    <tr style=\"text-align: right;\">\n",
       "      <th></th>\n",
       "      <th>idx</th>\n",
       "      <th>ko_original</th>\n",
       "      <th>en_original</th>\n",
       "      <th>matis</th>\n",
       "      <th>matis_bleu</th>\n",
       "    </tr>\n",
       "  </thead>\n",
       "  <tbody>\n",
       "    <tr>\n",
       "      <th>0</th>\n",
       "      <td>conversation short : 1</td>\n",
       "      <td>내 동료들과 나는 이 프로젝트를 진행하고 있어.</td>\n",
       "      <td>My colleagues and I are working on this project.</td>\n",
       "      <td>내 동료들과 나는 이 프로젝트를 진행하고 있습니다.</td>\n",
       "      <td>0.875824</td>\n",
       "    </tr>\n",
       "    <tr>\n",
       "      <th>1</th>\n",
       "      <td>2</td>\n",
       "      <td>네가 한 말 당장 취소해.</td>\n",
       "      <td>Take back what you said right now.</td>\n",
       "      <td>당장 당신이 말한 것을 실행 취소.</td>\n",
       "      <td>0.209028</td>\n",
       "    </tr>\n",
       "    <tr>\n",
       "      <th>2</th>\n",
       "      <td>3</td>\n",
       "      <td>그 변호사는 의뢰인의 비밀을 지켰어.</td>\n",
       "      <td>The lawyer kept her client’s scret.</td>\n",
       "      <td>변호사는 고객의 비밀을 지켰다.</td>\n",
       "      <td>0.446088</td>\n",
       "    </tr>\n",
       "    <tr>\n",
       "      <th>3</th>\n",
       "      <td>4</td>\n",
       "      <td>나는 일찍 집에 가고 싶어.</td>\n",
       "      <td>I want to go home early</td>\n",
       "      <td>일찍 집에 가고 싶어.</td>\n",
       "      <td>0.778801</td>\n",
       "    </tr>\n",
       "    <tr>\n",
       "      <th>4</th>\n",
       "      <td>5</td>\n",
       "      <td>나는 내가 키가 더 컸으면 좋겠어.</td>\n",
       "      <td>I wish I were taller.</td>\n",
       "      <td>키가 더 컸으면 좋았을 텐데</td>\n",
       "      <td>0.352004</td>\n",
       "    </tr>\n",
       "    <tr>\n",
       "      <th>...</th>\n",
       "      <td>...</td>\n",
       "      <td>...</td>\n",
       "      <td>...</td>\n",
       "      <td>...</td>\n",
       "      <td>...</td>\n",
       "    </tr>\n",
       "    <tr>\n",
       "      <th>245</th>\n",
       "      <td>246</td>\n",
       "      <td>시장에선 가계 예금 중 일부라도 유입되면 올해 중국 증시가 활기를 띨 것이란 기대가...</td>\n",
       "      <td>Market watchers expect the Chinese stock marke...</td>\n",
       "      <td>시장 구경꾼들은 올해 가계 예금의 일부라도 도입되면 중국 증시가 활기를 띨 것으로 ...</td>\n",
       "      <td>0.326847</td>\n",
       "    </tr>\n",
       "    <tr>\n",
       "      <th>246</th>\n",
       "      <td>247</td>\n",
       "      <td>하지만 소프트뱅크 비전펀드에는 아랍계 자산가들의 투자 비중이 가장 높은 것으로 알려...</td>\n",
       "      <td>However Softbank Vision Fund is known to have ...</td>\n",
       "      <td>소프트뱅크 비전펀드는 부유한 아랍인의 투자 비중이 가장 높은 것으로 알려졌다.</td>\n",
       "      <td>0.499374</td>\n",
       "    </tr>\n",
       "    <tr>\n",
       "      <th>247</th>\n",
       "      <td>248</td>\n",
       "      <td>과열종목 지정 요건을 완화하고 공매도 금지기간을 연장해도 업틱룰 예외 조항을 손질하...</td>\n",
       "      <td>They argue that even if the requirements for d...</td>\n",
       "      <td>과열주식 지정 요건을 완화하고 공매도 금지를 연장하더라도 ‘업틱 규칙 예외조항’이 ...</td>\n",
       "      <td>0.365348</td>\n",
       "    </tr>\n",
       "    <tr>\n",
       "      <th>248</th>\n",
       "      <td>249</td>\n",
       "      <td>투자자가 만기 전에 조기상환청구권을 행사할 경우 발행사는 원금에 해당 기간까지의 약...</td>\n",
       "      <td>If an investor exercises his or her right to c...</td>\n",
       "      <td>투자자가 만기 전에 조기상환청구권을 행사하면 발행인은 원금과 약정이자를 그 기간까지...</td>\n",
       "      <td>0.406046</td>\n",
       "    </tr>\n",
       "    <tr>\n",
       "      <th>249</th>\n",
       "      <td>250</td>\n",
       "      <td>주택담보대출 채무조정 활성화 방안은 채무자의 상환능력에 맞춰 방식을 다양화한 것이 ...</td>\n",
       "      <td>The key point of the plan to revitalize mortga...</td>\n",
       "      <td>‘담보대출 채무조정 활성화 방안’의 핵심은 채무자 상환능력에 따라 방식을 다양화하는...</td>\n",
       "      <td>0.479872</td>\n",
       "    </tr>\n",
       "  </tbody>\n",
       "</table>\n",
       "<p>250 rows × 5 columns</p>\n",
       "</div>"
      ],
      "text/plain": [
       "                        idx  \\\n",
       "0    conversation short : 1   \n",
       "1                         2   \n",
       "2                         3   \n",
       "3                         4   \n",
       "4                         5   \n",
       "..                      ...   \n",
       "245                     246   \n",
       "246                     247   \n",
       "247                     248   \n",
       "248                     249   \n",
       "249                     250   \n",
       "\n",
       "                                           ko_original  \\\n",
       "0                           내 동료들과 나는 이 프로젝트를 진행하고 있어.   \n",
       "1                                       네가 한 말 당장 취소해.   \n",
       "2                                 그 변호사는 의뢰인의 비밀을 지켰어.   \n",
       "3                                      나는 일찍 집에 가고 싶어.   \n",
       "4                                  나는 내가 키가 더 컸으면 좋겠어.   \n",
       "..                                                 ...   \n",
       "245  시장에선 가계 예금 중 일부라도 유입되면 올해 중국 증시가 활기를 띨 것이란 기대가...   \n",
       "246  하지만 소프트뱅크 비전펀드에는 아랍계 자산가들의 투자 비중이 가장 높은 것으로 알려...   \n",
       "247  과열종목 지정 요건을 완화하고 공매도 금지기간을 연장해도 업틱룰 예외 조항을 손질하...   \n",
       "248  투자자가 만기 전에 조기상환청구권을 행사할 경우 발행사는 원금에 해당 기간까지의 약...   \n",
       "249  주택담보대출 채무조정 활성화 방안은 채무자의 상환능력에 맞춰 방식을 다양화한 것이 ...   \n",
       "\n",
       "                                           en_original  \\\n",
       "0     My colleagues and I are working on this project.   \n",
       "1                   Take back what you said right now.   \n",
       "2                  The lawyer kept her client’s scret.   \n",
       "3                              I want to go home early   \n",
       "4                                I wish I were taller.   \n",
       "..                                                 ...   \n",
       "245  Market watchers expect the Chinese stock marke...   \n",
       "246  However Softbank Vision Fund is known to have ...   \n",
       "247  They argue that even if the requirements for d...   \n",
       "248  If an investor exercises his or her right to c...   \n",
       "249  The key point of the plan to revitalize mortga...   \n",
       "\n",
       "                                                 matis  matis_bleu  \n",
       "0                         내 동료들과 나는 이 프로젝트를 진행하고 있습니다.    0.875824  \n",
       "1                                  당장 당신이 말한 것을 실행 취소.    0.209028  \n",
       "2                                    변호사는 고객의 비밀을 지켰다.    0.446088  \n",
       "3                                         일찍 집에 가고 싶어.    0.778801  \n",
       "4                                      키가 더 컸으면 좋았을 텐데    0.352004  \n",
       "..                                                 ...         ...  \n",
       "245  시장 구경꾼들은 올해 가계 예금의 일부라도 도입되면 중국 증시가 활기를 띨 것으로 ...    0.326847  \n",
       "246        소프트뱅크 비전펀드는 부유한 아랍인의 투자 비중이 가장 높은 것으로 알려졌다.    0.499374  \n",
       "247  과열주식 지정 요건을 완화하고 공매도 금지를 연장하더라도 ‘업틱 규칙 예외조항’이 ...    0.365348  \n",
       "248  투자자가 만기 전에 조기상환청구권을 행사하면 발행인은 원금과 약정이자를 그 기간까지...    0.406046  \n",
       "249  ‘담보대출 채무조정 활성화 방안’의 핵심은 채무자 상환능력에 따라 방식을 다양화하는...    0.479872  \n",
       "\n",
       "[250 rows x 5 columns]"
      ]
     },
     "execution_count": 30,
     "metadata": {},
     "output_type": "execute_result"
    }
   ],
   "source": [
    "df"
   ]
  },
  {
   "cell_type": "code",
   "execution_count": 31,
   "id": "8072c904-75b8-4788-88b7-949cb9ae08c7",
   "metadata": {},
   "outputs": [
    {
     "name": "stdout",
     "output_type": "stream",
     "text": [
      "Average BLEU : 0.38\n"
     ]
    }
   ],
   "source": [
    "import numpy as np\n",
    "bleulist = list(df[\"matis_bleu\"])\n",
    "average = np.mean(bleulist)\n",
    "print(f\"Average BLEU : {round(average,2)}\")"
   ]
  },
  {
   "cell_type": "code",
   "execution_count": 32,
   "id": "5a0761a8-e57f-4691-b9c3-543d511ebd13",
   "metadata": {},
   "outputs": [],
   "source": [
    "# bleu score만 있는 text file 생성 (excel에 붙여넣을 용)\n",
    "\n",
    "bleulist = list(df[\"matis_bleu\"])\n",
    "\n",
    "with open('bleulist.txt', 'w') as textfile:\n",
    "    \n",
    "    for bleu in bleulist:\n",
    "        textfile.write(str(bleu)+\"\\n\")\n",
    "    \n",
    "    textfile.write(str(round(average,2))+\"\\n\")\n",
    "        \n",
    "textfile.close()"
   ]
  },
  {
   "cell_type": "markdown",
   "id": "67de90b6-191e-4968-b49c-32ee3b32f1b7",
   "metadata": {
    "jp-MarkdownHeadingCollapsed": true,
    "tags": []
   },
   "source": [
    "### EN BLEU"
   ]
  },
  {
   "cell_type": "code",
   "execution_count": 9,
   "id": "ec779d13-c2bc-4aed-a336-1f0c5fec3aa2",
   "metadata": {
    "collapsed": true,
    "jupyter": {
     "outputs_hidden": true
    },
    "tags": []
   },
   "outputs": [
    {
     "ename": "OSError",
     "evalue": "[E050] Can't find model 'ko_core_web_sm'. It doesn't seem to be a Python package or a valid path to a data directory.",
     "output_type": "error",
     "traceback": [
      "\u001b[0;31m---------------------------------------------------------------------------\u001b[0m",
      "\u001b[0;31mOSError\u001b[0m                                   Traceback (most recent call last)",
      "Cell \u001b[0;32mIn [9], line 7\u001b[0m\n\u001b[1;32m      4\u001b[0m df \u001b[38;5;241m=\u001b[39m df\u001b[38;5;241m.\u001b[39mdropna(subset\u001b[38;5;241m=\u001b[39m[\u001b[38;5;124m'\u001b[39m\u001b[38;5;124mmatis\u001b[39m\u001b[38;5;124m'\u001b[39m])\u001b[38;5;241m.\u001b[39mreset_index(drop\u001b[38;5;241m=\u001b[39m\u001b[38;5;28;01mTrue\u001b[39;00m)\n\u001b[1;32m      6\u001b[0m \u001b[38;5;66;03m# Sentence Splitter\u001b[39;00m\n\u001b[0;32m----> 7\u001b[0m nlp \u001b[38;5;241m=\u001b[39m \u001b[43mspacy\u001b[49m\u001b[38;5;241;43m.\u001b[39;49m\u001b[43mload\u001b[49m\u001b[43m(\u001b[49m\u001b[38;5;124;43m\"\u001b[39;49m\u001b[38;5;124;43mko_core_web_sm\u001b[39;49m\u001b[38;5;124;43m\"\u001b[39;49m\u001b[43m)\u001b[49m\n\u001b[1;32m      8\u001b[0m nlp\u001b[38;5;241m.\u001b[39madd_pipe(\u001b[38;5;124m'\u001b[39m\u001b[38;5;124msentencizer\u001b[39m\u001b[38;5;124m'\u001b[39m)\n\u001b[1;32m     10\u001b[0m \u001b[38;5;66;03m# bleu_score, Smoothing Function\u001b[39;00m\n",
      "File \u001b[0;32m~/anaconda3/envs/test/lib/python3.10/site-packages/spacy/__init__.py:54\u001b[0m, in \u001b[0;36mload\u001b[0;34m(name, vocab, disable, enable, exclude, config)\u001b[0m\n\u001b[1;32m     30\u001b[0m \u001b[38;5;28;01mdef\u001b[39;00m \u001b[38;5;21mload\u001b[39m(\n\u001b[1;32m     31\u001b[0m     name: Union[\u001b[38;5;28mstr\u001b[39m, Path],\n\u001b[1;32m     32\u001b[0m     \u001b[38;5;241m*\u001b[39m,\n\u001b[0;32m   (...)\u001b[0m\n\u001b[1;32m     37\u001b[0m     config: Union[Dict[\u001b[38;5;28mstr\u001b[39m, Any], Config] \u001b[38;5;241m=\u001b[39m util\u001b[38;5;241m.\u001b[39mSimpleFrozenDict(),\n\u001b[1;32m     38\u001b[0m ) \u001b[38;5;241m-\u001b[39m\u001b[38;5;241m>\u001b[39m Language:\n\u001b[1;32m     39\u001b[0m     \u001b[38;5;124;03m\"\"\"Load a spaCy model from an installed package or a local path.\u001b[39;00m\n\u001b[1;32m     40\u001b[0m \n\u001b[1;32m     41\u001b[0m \u001b[38;5;124;03m    name (str): Package name or model path.\u001b[39;00m\n\u001b[0;32m   (...)\u001b[0m\n\u001b[1;32m     52\u001b[0m \u001b[38;5;124;03m    RETURNS (Language): The loaded nlp object.\u001b[39;00m\n\u001b[1;32m     53\u001b[0m \u001b[38;5;124;03m    \"\"\"\u001b[39;00m\n\u001b[0;32m---> 54\u001b[0m     \u001b[38;5;28;01mreturn\u001b[39;00m \u001b[43mutil\u001b[49m\u001b[38;5;241;43m.\u001b[39;49m\u001b[43mload_model\u001b[49m\u001b[43m(\u001b[49m\n\u001b[1;32m     55\u001b[0m \u001b[43m        \u001b[49m\u001b[43mname\u001b[49m\u001b[43m,\u001b[49m\n\u001b[1;32m     56\u001b[0m \u001b[43m        \u001b[49m\u001b[43mvocab\u001b[49m\u001b[38;5;241;43m=\u001b[39;49m\u001b[43mvocab\u001b[49m\u001b[43m,\u001b[49m\n\u001b[1;32m     57\u001b[0m \u001b[43m        \u001b[49m\u001b[43mdisable\u001b[49m\u001b[38;5;241;43m=\u001b[39;49m\u001b[43mdisable\u001b[49m\u001b[43m,\u001b[49m\n\u001b[1;32m     58\u001b[0m \u001b[43m        \u001b[49m\u001b[43menable\u001b[49m\u001b[38;5;241;43m=\u001b[39;49m\u001b[43menable\u001b[49m\u001b[43m,\u001b[49m\n\u001b[1;32m     59\u001b[0m \u001b[43m        \u001b[49m\u001b[43mexclude\u001b[49m\u001b[38;5;241;43m=\u001b[39;49m\u001b[43mexclude\u001b[49m\u001b[43m,\u001b[49m\n\u001b[1;32m     60\u001b[0m \u001b[43m        \u001b[49m\u001b[43mconfig\u001b[49m\u001b[38;5;241;43m=\u001b[39;49m\u001b[43mconfig\u001b[49m\u001b[43m,\u001b[49m\n\u001b[1;32m     61\u001b[0m \u001b[43m    \u001b[49m\u001b[43m)\u001b[49m\n",
      "File \u001b[0;32m~/anaconda3/envs/test/lib/python3.10/site-packages/spacy/util.py:439\u001b[0m, in \u001b[0;36mload_model\u001b[0;34m(name, vocab, disable, enable, exclude, config)\u001b[0m\n\u001b[1;32m    437\u001b[0m \u001b[38;5;28;01mif\u001b[39;00m name \u001b[38;5;129;01min\u001b[39;00m OLD_MODEL_SHORTCUTS:\n\u001b[1;32m    438\u001b[0m     \u001b[38;5;28;01mraise\u001b[39;00m \u001b[38;5;167;01mIOError\u001b[39;00m(Errors\u001b[38;5;241m.\u001b[39mE941\u001b[38;5;241m.\u001b[39mformat(name\u001b[38;5;241m=\u001b[39mname, full\u001b[38;5;241m=\u001b[39mOLD_MODEL_SHORTCUTS[name]))  \u001b[38;5;66;03m# type: ignore[index]\u001b[39;00m\n\u001b[0;32m--> 439\u001b[0m \u001b[38;5;28;01mraise\u001b[39;00m \u001b[38;5;167;01mIOError\u001b[39;00m(Errors\u001b[38;5;241m.\u001b[39mE050\u001b[38;5;241m.\u001b[39mformat(name\u001b[38;5;241m=\u001b[39mname))\n",
      "\u001b[0;31mOSError\u001b[0m: [E050] Can't find model 'ko_core_web_sm'. It doesn't seem to be a Python package or a valid path to a data directory."
     ]
    }
   ],
   "source": [
    "# Sentence Splitter\n",
    "nlp = spacy.load(\"en_core_web_sm\")\n",
    "nlp.add_pipe('sentencizer')\n",
    "\n",
    "# bleu_score, Smoothing Function\n",
    "cc = SmoothingFunction()"
   ]
  },
  {
   "cell_type": "code",
   "execution_count": 7,
   "id": "0fb15cbd-8ebb-4ebd-8489-81a62045823f",
   "metadata": {},
   "outputs": [],
   "source": [
    "# MATIS BLEU_SCORE 생성\n",
    "df['matis_bleu'] = ''\n",
    "for idx, row in df.iterrows():\n",
    "    references = [row['en_original'].split(' ')]\n",
    "    target_text = row['matis'].split(' ')\n",
    "    score = sentence_bleu(references, target_text, weights=[1, 0, 0, 0], smoothing_function=cc.method2)\n",
    "    df.loc[idx, 'matis_bleu'] = score"
   ]
  },
  {
   "cell_type": "code",
   "execution_count": null,
   "id": "596de809-c45c-49f7-b21a-c40993f9116f",
   "metadata": {},
   "outputs": [],
   "source": []
  }
 ],
 "metadata": {
  "kernelspec": {
   "display_name": "test",
   "language": "python",
   "name": "test"
  },
  "language_info": {
   "codemirror_mode": {
    "name": "ipython",
    "version": 3
   },
   "file_extension": ".py",
   "mimetype": "text/x-python",
   "name": "python",
   "nbconvert_exporter": "python",
   "pygments_lexer": "ipython3",
   "version": "3.10.6"
  }
 },
 "nbformat": 4,
 "nbformat_minor": 5
}
